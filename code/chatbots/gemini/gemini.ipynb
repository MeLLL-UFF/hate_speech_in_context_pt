{
 "cells": [
  {
   "cell_type": "code",
   "execution_count": null,
   "metadata": {},
   "outputs": [],
   "source": [
    "import pandas as pd\n",
    "import time\n",
    "import vertexai\n",
    "from vertexai.preview.generative_models import GenerativeModel, Part\n",
    "import vertexai.preview.generative_models as generative_models"
   ]
  },
  {
   "cell_type": "code",
   "execution_count": null,
   "metadata": {},
   "outputs": [],
   "source": [
    "type = 'type' #zero_shot; #few_shot...\n",
    "output_path = f'''output_path/{type}.csv'''\n",
    "dataset_path = \"dataset_path/\"\n",
    "prompt_path = \"prompt_path/\""
   ]
  },
  {
   "cell_type": "code",
   "execution_count": null,
   "metadata": {},
   "outputs": [],
   "source": [
    "def generate(prompt:str, max_tokens:int, temperature:float):\n",
    "  vertexai.init(project=\"hate-speech-pt-416320\", location=\"us-central1\")\n",
    "  model = GenerativeModel(\"gemini-1.0-pro-001\")\n",
    "  responses = model.generate_content(\n",
    "    prompt,\n",
    "    generation_config={\n",
    "        \"max_output_tokens\": max_tokens,\n",
    "        \"temperature\": temperature,\n",
    "        \"top_p\": 1\n",
    "    },\n",
    "    safety_settings={\n",
    "        generative_models.HarmCategory.HARM_CATEGORY_HATE_SPEECH: generative_models.HarmBlockThreshold.BLOCK_NONE,\n",
    "        generative_models.HarmCategory.HARM_CATEGORY_DANGEROUS_CONTENT: generative_models.HarmBlockThreshold.BLOCK_NONE,\n",
    "        generative_models.HarmCategory.HARM_CATEGORY_SEXUALLY_EXPLICIT: generative_models.HarmBlockThreshold.BLOCK_NONE,\n",
    "        generative_models.HarmCategory.HARM_CATEGORY_HARASSMENT: generative_models.HarmBlockThreshold.BLOCK_NONE,\n",
    "    },\n",
    "    stream=False,\n",
    "  )\n",
    "  \n",
    "  return responses"
   ]
  },
  {
   "cell_type": "code",
   "execution_count": null,
   "metadata": {},
   "outputs": [],
   "source": [
    "base_prompt = ''\n",
    "with open(prompt_path, 'r') as file:\n",
    "    base_prompt = file.read()\n",
    "\n",
    "print(base_prompt)"
   ]
  },
  {
   "cell_type": "code",
   "execution_count": null,
   "metadata": {},
   "outputs": [],
   "source": [
    "df = pd.read_csv(dataset_path)\n",
    "\n",
    "df.head()"
   ]
  },
  {
   "cell_type": "code",
   "execution_count": null,
   "metadata": {},
   "outputs": [],
   "source": [
    "answers = [\"none\"] * len(df)"
   ]
  },
  {
   "cell_type": "code",
   "execution_count": null,
   "metadata": {},
   "outputs": [],
   "source": [
    "i = 0\n",
    "\n",
    "while i < len(df):\n",
    "  try:\n",
    "    prompt = base_prompt +  f'''\\nTexto: {df[\"text\"].iloc[i]}\\nClasse: '''\n",
    "\n",
    "    resp = generate(prompt, 20, 0.1)\n",
    "\n",
    "    resp_texto = resp.text.replace(\"\\n\", '')\n",
    "    answers[i] = resp_texto.lower()\n",
    "    \n",
    "    i += 1\n",
    "\n",
    "    time.sleep(2)\n",
    "\n",
    "  except Exception as e:\n",
    "    erro = f\"Erro encontrado: {e}. Tentando novamente...\"\n",
    "    print(erro)\n",
    "    \n",
    "    answers[i] = erro\n",
    "\n",
    "    i += 1\n",
    "    \n",
    "    time.sleep(5)  # Pausa antes de tentar novamente"
   ]
  },
  {
   "cell_type": "code",
   "execution_count": null,
   "metadata": {},
   "outputs": [],
   "source": [
    "df_answers = pd.DataFrame({\n",
    "    \"text\": df['text'].values,\n",
    "    \"answer\": answers,\n",
    "})\n",
    "\n",
    "df_answers.to_csv(output_path, index=False)"
   ]
  }
 ],
 "metadata": {
  "kernelspec": {
   "display_name": "Python 3",
   "language": "python",
   "name": "python3"
  },
  "language_info": {
   "name": "python",
   "version": "3.11.6"
  }
 },
 "nbformat": 4,
 "nbformat_minor": 2
}
