{
 "cells": [
  {
   "cell_type": "code",
   "execution_count": 40,
   "metadata": {},
   "outputs": [],
   "source": [
    "import pandas as pd\n",
    "from transformers import AutoTokenizer"
   ]
  },
  {
   "cell_type": "code",
   "execution_count": 41,
   "metadata": {},
   "outputs": [],
   "source": [
    "tokenizer = AutoTokenizer.from_pretrained(\"melll-uff/bertweetbr\")"
   ]
  },
  {
   "cell_type": "code",
   "execution_count": 42,
   "metadata": {},
   "outputs": [],
   "source": [
    "def load_and_combine_csvs(csv_files):\n",
    "    dataframes = [pd.read_csv(file) for file in csv_files]\n",
    "    combined_df = pd.concat(dataframes, ignore_index=True)\n",
    "    return combined_df"
   ]
  },
  {
   "cell_type": "code",
   "execution_count": 43,
   "metadata": {},
   "outputs": [],
   "source": [
    "def calculate_metrics(sentences):\n",
    "    total_chars = 0\n",
    "    total_words = 0\n",
    "    total_tokens = 0\n",
    "    \n",
    "    for sentence in sentences:\n",
    "        if pd.isna(sentence): \n",
    "            continue\n",
    "        total_chars += len(sentence)\n",
    "        total_words += len(sentence.split())\n",
    "        total_tokens += len(tokenizer.tokenize(sentence))\n",
    "    \n",
    "    num_sentences = len(sentences)\n",
    "    avg_chars = total_chars / num_sentences\n",
    "    avg_words = total_words / num_sentences\n",
    "    avg_tokens = total_tokens / num_sentences\n",
    "    \n",
    "    return avg_chars, avg_words, avg_tokens\n"
   ]
  },
  {
   "cell_type": "markdown",
   "metadata": {},
   "source": [
    "### HateBR"
   ]
  },
  {
   "cell_type": "code",
   "execution_count": 44,
   "metadata": {},
   "outputs": [],
   "source": [
    "csv_files = [\"hatebr\\\\hatebr_train_umb_aux.csv\", \"hatebr\\\\hatebr_val.csv\", \"hatebr\\\\hatebr_test.csv\"]"
   ]
  },
  {
   "cell_type": "code",
   "execution_count": 45,
   "metadata": {},
   "outputs": [],
   "source": [
    "combined_df = load_and_combine_csvs(csv_files)"
   ]
  },
  {
   "cell_type": "code",
   "execution_count": 46,
   "metadata": {},
   "outputs": [],
   "source": [
    "texts = combined_df['text'].dropna().tolist()"
   ]
  },
  {
   "cell_type": "code",
   "execution_count": 48,
   "metadata": {},
   "outputs": [
    {
     "name": "stdout",
     "output_type": "stream",
     "text": [
      "85.65564575645756 14.593210332103322 15.8309963099631\n"
     ]
    }
   ],
   "source": [
    "avg_chars, avg_words, avg_tokens = calculate_metrics(texts)\n",
    "print(avg_chars, avg_words, avg_tokens)"
   ]
  },
  {
   "cell_type": "markdown",
   "metadata": {},
   "source": [
    "### OLIDBR"
   ]
  },
  {
   "cell_type": "code",
   "execution_count": 49,
   "metadata": {},
   "outputs": [],
   "source": [
    "csv_files = [\"olidbr\\\\olidbr_train_balanced.csv\", \"olidbr\\\\olidbr_val.csv\", \"olidbr\\\\olidbr_test.csv\"]"
   ]
  },
  {
   "cell_type": "code",
   "execution_count": 50,
   "metadata": {},
   "outputs": [],
   "source": [
    "combined_df = load_and_combine_csvs(csv_files)"
   ]
  },
  {
   "cell_type": "code",
   "execution_count": 51,
   "metadata": {},
   "outputs": [],
   "source": [
    "texts = combined_df['text'].dropna().tolist()"
   ]
  },
  {
   "cell_type": "code",
   "execution_count": 52,
   "metadata": {},
   "outputs": [
    {
     "name": "stdout",
     "output_type": "stream",
     "text": [
      "134.16826086956522 26.199565217391303 28.39108695652174\n"
     ]
    }
   ],
   "source": [
    "avg_chars, avg_words, avg_tokens = calculate_metrics(texts)\n",
    "print(avg_chars, avg_words, avg_tokens)"
   ]
  },
  {
   "cell_type": "markdown",
   "metadata": {},
   "source": [
    "### ToLD-BR"
   ]
  },
  {
   "cell_type": "code",
   "execution_count": 53,
   "metadata": {},
   "outputs": [],
   "source": [
    "csv_files = [\"toldbr\\\\toldbr_train_balanced.csv\", \"toldbr\\\\toldbr_val.csv\", \"toldbr\\\\toldbr_test.csv\"]"
   ]
  },
  {
   "cell_type": "code",
   "execution_count": 54,
   "metadata": {},
   "outputs": [],
   "source": [
    "combined_df = load_and_combine_csvs(csv_files)"
   ]
  },
  {
   "cell_type": "code",
   "execution_count": 55,
   "metadata": {},
   "outputs": [],
   "source": [
    "texts = combined_df['text'].dropna().tolist()"
   ]
  },
  {
   "cell_type": "code",
   "execution_count": 56,
   "metadata": {},
   "outputs": [
    {
     "name": "stdout",
     "output_type": "stream",
     "text": [
      "90.93240442192538 17.395555043758637 18.780285582680794\n"
     ]
    }
   ],
   "source": [
    "avg_chars, avg_words, avg_tokens = calculate_metrics(texts)\n",
    "print(avg_chars, avg_words, avg_tokens)"
   ]
  }
 ],
 "metadata": {
  "kernelspec": {
   "display_name": "Python 3",
   "language": "python",
   "name": "python3"
  },
  "language_info": {
   "codemirror_mode": {
    "name": "ipython",
    "version": 3
   },
   "file_extension": ".py",
   "mimetype": "text/x-python",
   "name": "python",
   "nbconvert_exporter": "python",
   "pygments_lexer": "ipython3",
   "version": "3.11.6"
  }
 },
 "nbformat": 4,
 "nbformat_minor": 2
}
